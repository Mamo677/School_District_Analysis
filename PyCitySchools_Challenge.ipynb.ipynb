# Dependencies and Setup
import pandas as pd
import os

# File to Load (Remember to change the path if needed.)
school_data_to_load = os.path.join("Resources", "schools_complete.csv")
student_data_to_load = os.path.join("Resources", "students_complete.csv")

# Read the School Data and Student Data and store into a Pandas DataFrame
school_data_df = pd.read_csv(school_data_to_load)
student_data_df = pd.read_csv(student_data_to_load)

# Cleaning Student Names and Replacing Substrings in a Python String
# Add each prefix and suffix to remove to a list.
prefixes_suffixes = ["Dr. ", "Mr. ","Ms. ", "Mrs. ", "Miss ", " MD", " DDS", " DVM", " PhD"]

# Iterate through the words in the "prefixes_suffixes" list and replace them with an empty space, "".
for word in prefixes_suffixes:
    student_data_df["student_name"] = student_data_df["student_name"].str.replace(word,"")

# Check names.
student_data_df.head(10)


  #Deliverable 1: Replace the reading and math scores.
#Replace the 9th grade reading and math scores at Thomas High School with NaN.
In [3]:
# Install numpy using conda install numpy or pip install numpy. 
# Step 1. Import numpy as np.
import numpy as np
In [4]:
# Step 2. Use the loc method on the student_data_df to select all the reading scores from the 9th grade at Thomas High School 
# and replace them with NaN.

# Lets create and define logic to filter on "Thomas High School" & 9th grade called ths_condition.

ths_condition = (student_data_df['school_name'] == "Thomas High School") & (student_data_df['grade'] == "9th")

# Apply filter to get the set of "Thomas High School" & 9th grade rows.

student_data_df.loc[ths_condition,['school_name','grade', 'reading_score','math_score']]

# Reset reading to NaN for the filtered rows.

student_data_df.loc[ths_condition,['reading_score']] = np.nan
In [5]:
#  Step 3. Refactor the code in Step 2 to replace the math scores with NaN.
# Reset reading to NaN for the filtered rows.

student_data_df.loc[ths_condition,['math_score']] = np.nan
In [6]:
#  Step 4. Check the student data for NaN's. 
student_data_df.tail()

#Deliverable 2 : Repeat the school district analysis¶
#District Summary
# Combine the data into a single dataset
school_data_complete_df = pd.merge(student_data_df, school_data_df, how="left", on=["school_name", "school_name"])
school_data_complete_df.head()
# Calculate the Totals (Schools and Students)
school_count = len(school_data_complete_df["school_name"].unique())
student_count = school_data_complete_df["Student ID"].count()

# Calculate the Total Budget
total_budget = school_data_df["budget"].sum()
total_budget
# Calculate the Average Scores using the "clean_student_data".
# clean_student_data = school_data_complete_df.drop(school_data_complete_df.loc[
    #(school_data_complete_df["grade"] == "9th") & (school_data_complete_df["school_name"] == "Thomas High School")].index)

# average_reading_score = clean_student_data["reading_score"].mean()
# average_math_score = clean_student_data["math_score"].mean()

average_reading_score = school_data_complete_df["reading_score"].mean()
average_math_score = school_data_complete_df["math_score"].mean()
average_reading_score
average_math_score
# Step 1. Get the number of students that are in ninth grade at Thomas High School.
# These students have no grades. 
ths_9th_studen_count = school_data_complete_df.loc[
    (school_data_complete_df["school_name"] == "Thomas High School") & 
    (school_data_complete_df["grade"] == "9th"), ["Student ID"]
].count()
ths_9th_studen_count